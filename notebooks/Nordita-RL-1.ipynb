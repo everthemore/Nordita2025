{
 "cells": [
  {
   "cell_type": "code",
   "execution_count": null,
   "id": "391878b3-afa8-4375-ac1f-48036f387a69",
   "metadata": {},
   "outputs": [],
   "source": [
    "import numpy as np"
   ]
  },
  {
   "cell_type": "code",
   "execution_count": null,
   "id": "87536402-3c51-417d-b8e3-794c13d45513",
   "metadata": {},
   "outputs": [],
   "source": [
    "class BananaExperiment:\n",
    "    def __init__(self):\n",
    "        # Nothing to do here\n",
    "        return\n",
    "\n",
    "    def reset(self):\n",
    "         # Randomly choose if the light is on or off\n",
    "        self.state = np.random.randint(0,2)\n",
    "\n",
    "        # What we can observe here is the full state\n",
    "        observation = self.state\n",
    "        return observation\n",
    "\n",
    "    def run(self, action):\n",
    "        # The monkey has the latest observation, and chose and action based on it\n",
    "        # Now we define what happens based on it.\n",
    "        \n",
    "        reward = 0 # The default is 0, and ...\n",
    "        if self.state == 1 and action == 1:\n",
    "            # ... only if light is on and monkey pulls lever, we provide a reward\n",
    "            reward = 1\n",
    "\n",
    "        # Nothing changes in the experiment, no need to update the state (and hence observation)\n",
    "        observation = self.state\n",
    "        \n",
    "        return observation, reward"
   ]
  },
  {
   "cell_type": "code",
   "execution_count": null,
   "id": "3b5e1842-079c-49e7-be23-9c1a74b26304",
   "metadata": {},
   "outputs": [],
   "source": [
    "experiment = BananaExperiment()\n",
    "\n",
    "Q = np.zeros((2,2))\n",
    "\n",
    "# Let's run the experiment 10 times\n",
    "num_episodes = 10\n",
    "for i in range(num_episodes):\n",
    "\n",
    "    print(f\"Running episode {i}\")\n",
    "\n",
    "    # First we reset the experiment, and track the observation\n",
    "    observation = experiment.reset()\n",
    "\n",
    "    # Pick a random action \n",
    "    action = np.random.randint(0,2)\n",
    "    \n",
    "    # Run the experiment with the chosen action\n",
    "    new_observation, reward = experiment.run(action)\n",
    "\n",
    "    # Update rule!\n",
    "    # ... TODO\n",
    "    \n",
    "    print(f\"\\tWe observed {observation}, choose to do action {action} and got reward {reward}\")"
   ]
  },
  {
   "cell_type": "code",
   "execution_count": null,
   "id": "5059c96b-2b9f-4922-b14f-0c358ef42ef6",
   "metadata": {},
   "outputs": [],
   "source": []
  }
 ],
 "metadata": {
  "kernelspec": {
   "display_name": "Python 3 (ipykernel)",
   "language": "python",
   "name": "python3"
  },
  "language_info": {
   "codemirror_mode": {
    "name": "ipython",
    "version": 3
   },
   "file_extension": ".py",
   "mimetype": "text/x-python",
   "name": "python",
   "nbconvert_exporter": "python",
   "pygments_lexer": "ipython3",
   "version": "3.9.7"
  }
 },
 "nbformat": 4,
 "nbformat_minor": 5
}
